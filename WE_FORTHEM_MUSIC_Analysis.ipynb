{
  "metadata": {
    "kernelspec": {
      "name": "python",
      "display_name": "Python (Pyodide)",
      "language": "python"
    },
    "language_info": {
      "codemirror_mode": {
        "name": "python",
        "version": 3
      },
      "file_extension": ".py",
      "mimetype": "text/x-python",
      "name": "python",
      "nbconvert_exporter": "python",
      "pygments_lexer": "ipython3",
      "version": "3.8"
    }
  },
  "nbformat_minor": 5,
  "nbformat": 4,
  "cells": [
    {
      "id": "7a17bd90-6a11-40b0-aa4e-3aa3ba3724db",
      "cell_type": "code",
      "source": "# WE FORTHEM & MUSIC – Capstone Project Python Analysis\n\nimport pandas as pd\nimport matplotlib.pyplot as plt\nimport seaborn as sns\n\n# Load dataset\ndf = pd.read_csv(\"music_support_dataset.csv\")\n\n# Categorize support type\nmusic_types = [\"Music Access\", \"Training\", \"Workshops\", \"Instrument Donation\"]\ndf[\"Category\"] = df[\"Support Type\"].apply(lambda x: \"Music\" if x in music_types else \"Charity\")\n\n# Summary statistics by category\nsummary = df.groupby(\"Category\").agg({\n    \"People Reached\": \"sum\",\n    \"Donations (USD)\": \"sum\"\n}).reset_index()\n\nprint(\"Summary: Music vs Charity\")\nprint(summary)\n\n# Visualization setup\nsns.set(style=\"whitegrid\")\n\n# People Reached bar chart\nplt.figure(figsize=(8, 5))\nsns.barplot(data=summary, x=\"Category\", y=\"People Reached\", palette=\"Set2\")\nplt.title(\"People Reached: Music vs Charity\")\nplt.tight_layout()\nplt.savefig(\"music_vs_charity_people.png\")\nplt.show()\n\n# Donations bar chart\nplt.figure(figsize=(8, 5))\nsns.barplot(data=summary, x=\"Category\", y=\"Donations (USD)\", palette=\"Set1\")\nplt.title(\"Donations: Music vs Charity\")\nplt.tight_layout()\nplt.savefig(\"music_vs_charity_donations.png\")\nplt.show()\n",
      "metadata": {
        "trusted": true
      },
      "outputs": [],
      "execution_count": null
    }
  ]
}